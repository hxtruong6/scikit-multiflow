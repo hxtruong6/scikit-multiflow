{
 "cells": [
  {
   "cell_type": "code",
   "execution_count": 3,
   "metadata": {},
   "outputs": [
    {
     "name": "stdout",
     "output_type": "stream",
     "text": [
      "<class 'pandas.core.frame.DataFrame'>\n",
      "RangeIndex: 2 entries, 0 to 1\n",
      "Data columns (total 5 columns):\n",
      " #   Column                     Non-Null Count  Dtype  \n",
      "---  ------                     --------------  -----  \n",
      " 0   Dataset                    2 non-null      object \n",
      " 1   Model                      2 non-null      object \n",
      " 2   Predict Function of Model  2 non-null      object \n",
      " 3   Metric Function            2 non-null      object \n",
      " 4   Score                      2 non-null      float64\n",
      "dtypes: float64(1), object(4)\n",
      "memory usage: 208.0+ bytes\n",
      "None\n",
      "--------------------------------------------------\n",
      "    Dataset               Model Predict Function of Model  Metric Function  \\\n",
      "0  emotions  LogisticRegression      Predict Hamming Loss     Hamming Loss   \n",
      "1  emotions  LogisticRegression      Predict Hamming Loss  Precision Score   \n",
      "\n",
      "     Score  \n",
      "0  0.22525  \n",
      "1  0.53133  \n"
     ]
    }
   ],
   "source": [
    "import pandas as pd\n",
    "\n",
    "# Read the CSV file\n",
    "df = pd.read_csv('/Users/xuantruong/Documents/JAIST/scikit-multiflow/tests/evaluation/result/evaluation_results.csv')\n",
    "\n",
    "# Display the contents of the DataFrame\n",
    "print(df.info())\n",
    "print(\"-\"*50)\n",
    "print(df)"
   ]
  },
  {
   "cell_type": "markdown",
   "metadata": {},
   "source": []
  },
  {
   "cell_type": "code",
   "execution_count": 4,
   "metadata": {},
   "outputs": [
    {
     "data": {
      "text/html": [
       "<div>\n",
       "<style scoped>\n",
       "    .dataframe tbody tr th:only-of-type {\n",
       "        vertical-align: middle;\n",
       "    }\n",
       "\n",
       "    .dataframe tbody tr th {\n",
       "        vertical-align: top;\n",
       "    }\n",
       "\n",
       "    .dataframe thead th {\n",
       "        text-align: right;\n",
       "    }\n",
       "</style>\n",
       "<table border=\"1\" class=\"dataframe\">\n",
       "  <thead>\n",
       "    <tr style=\"text-align: right;\">\n",
       "      <th></th>\n",
       "      <th>Dataset</th>\n",
       "      <th>Model</th>\n",
       "      <th>Predict Function of Model</th>\n",
       "      <th>Metric Function</th>\n",
       "      <th>Score</th>\n",
       "    </tr>\n",
       "  </thead>\n",
       "  <tbody>\n",
       "    <tr>\n",
       "      <th>0</th>\n",
       "      <td>emotions</td>\n",
       "      <td>LogisticRegression</td>\n",
       "      <td>Predict Hamming Loss</td>\n",
       "      <td>Hamming Loss</td>\n",
       "      <td>0.22525</td>\n",
       "    </tr>\n",
       "    <tr>\n",
       "      <th>1</th>\n",
       "      <td>emotions</td>\n",
       "      <td>LogisticRegression</td>\n",
       "      <td>Predict Hamming Loss</td>\n",
       "      <td>Precision Score</td>\n",
       "      <td>0.53133</td>\n",
       "    </tr>\n",
       "  </tbody>\n",
       "</table>\n",
       "</div>"
      ],
      "text/plain": [
       "    Dataset               Model Predict Function of Model  Metric Function  \\\n",
       "0  emotions  LogisticRegression      Predict Hamming Loss     Hamming Loss   \n",
       "1  emotions  LogisticRegression      Predict Hamming Loss  Precision Score   \n",
       "\n",
       "     Score  \n",
       "0  0.22525  \n",
       "1  0.53133  "
      ]
     },
     "execution_count": 4,
     "metadata": {},
     "output_type": "execute_result"
    }
   ],
   "source": [
    "df"
   ]
  },
  {
   "cell_type": "code",
   "execution_count": null,
   "metadata": {},
   "outputs": [],
   "source": []
  }
 ],
 "metadata": {
  "kernelspec": {
   "display_name": "skikit-multiflow",
   "language": "python",
   "name": "python3"
  },
  "language_info": {
   "codemirror_mode": {
    "name": "ipython",
    "version": 3
   },
   "file_extension": ".py",
   "mimetype": "text/x-python",
   "name": "python",
   "nbconvert_exporter": "python",
   "pygments_lexer": "ipython3",
   "version": "3.10.12"
  }
 },
 "nbformat": 4,
 "nbformat_minor": 2
}
